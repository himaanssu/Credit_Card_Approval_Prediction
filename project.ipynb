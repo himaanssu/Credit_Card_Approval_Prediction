{
 "cells": [
  {
   "cell_type": "markdown",
   "metadata": {},
   "source": [
    "## 1. **Import Required Libraries**"
   ]
  },
  {
   "cell_type": "code",
   "execution_count": 1,
   "metadata": {},
   "outputs": [],
   "source": [
    "import numpy as np\n",
    "import pandas as pd\n",
    "\n",
    "from sklearn.model_selection import train_test_split"
   ]
  },
  {
   "cell_type": "markdown",
   "metadata": {},
   "source": [
    "## 2. **Get Data**"
   ]
  },
  {
   "cell_type": "markdown",
   "metadata": {},
   "source": [
    "### 2.1 **Load datasets**"
   ]
  },
  {
   "cell_type": "code",
   "execution_count": 2,
   "metadata": {},
   "outputs": [],
   "source": [
    "# Load application record and credit record data into DataFrames\n",
    "cc_application_df = pd.read_csv('data/application_record.csv')\n",
    "cc_status_df = pd.read_csv('data/credit_record.csv')"
   ]
  },
  {
   "cell_type": "markdown",
   "metadata": {},
   "source": [
    "### 2.2. **Create target variable**"
   ]
  },
  {
   "cell_type": "code",
   "execution_count": 3,
   "metadata": {},
   "outputs": [],
   "source": [
    "# Determine how long each person has held their credit card\n",
    "cc_duration = cc_status_df.groupby(\"ID\")[\"MONTHS_BALANCE\"].min().reset_index().rename(columns={\"MONTHS_BALANCE\": \"months_hold_cc\"})\n",
    "cc_application_df = pd.merge(cc_application_df, cc_duration, how=\"left\", on=\"ID\")\n",
    "\n",
    "# Create a new column 'is_risky' that identifies if the STATUS is considered risky (values 2, 3, 4, or 5)\n",
    "cc_status_df['is_risky'] = np.where(cc_status_df['STATUS'].isin(['2', '3', '4', '5']), 'Yes', 'No')\n",
    "\n",
    "# Determine if a person has ever defaulted, with Yes mapped to 1 and No mapped to 0\n",
    "cc_defaulter = cc_status_df.groupby('ID')['is_risky'].max().reset_index()\n",
    "cc_defaulter['is_risky'] = cc_defaulter['is_risky'].map({'Yes': 1, 'No': 0})\n",
    "cc_application_df = pd.merge(cc_application_df, cc_defaulter, how='inner', on='ID')\n",
    "\n",
    "# Ensure duration is positive and convert it to integer type for consistent data handling\n",
    "cc_application_df['months_hold_cc'] = np.abs(cc_application_df['months_hold_cc']).astype('int64')"
   ]
  },
  {
   "cell_type": "markdown",
   "metadata": {},
   "source": [
    "### 2.3 **Rename features**"
   ]
  },
  {
   "cell_type": "code",
   "execution_count": 4,
   "metadata": {},
   "outputs": [],
   "source": [
    "# Define a mapping to rename DataFrame columns for clarity and consistency\n",
    "column_rename_map = {\n",
    "    'CODE_GENDER': 'gender',\n",
    "    'FLAG_OWN_CAR': 'owns_car',\n",
    "    'FLAG_OWN_REALTY': 'owns_property',\n",
    "    'CNT_CHILDREN': 'child_count',\n",
    "    'AMT_INCOME_TOTAL': 'annual_income',\n",
    "    'NAME_INCOME_TYPE': 'work_type',\n",
    "    'NAME_EDUCATION_TYPE': 'education',\n",
    "    'NAME_FAMILY_STATUS': 'marital_status',\n",
    "    'NAME_HOUSING_TYPE': 'accommodation',\n",
    "    'DAYS_BIRTH': 'days_lived',\n",
    "    'DAYS_EMPLOYED': 'days_employed',\n",
    "    'FLAG_MOBIL': 'has_mobile',\n",
    "    'FLAG_WORK_PHONE': 'has_work_phone',\n",
    "    'FLAG_PHONE': 'has_phone',\n",
    "    'FLAG_EMAIL': 'has_email',\n",
    "    'OCCUPATION_TYPE': 'profession',\n",
    "    'CNT_FAM_MEMBERS': 'family_size'\n",
    "}\n",
    "cc_application_df.rename(columns=column_rename_map, inplace=True)"
   ]
  },
  {
   "cell_type": "markdown",
   "metadata": {},
   "source": [
    "### 2.4. **Split data**"
   ]
  },
  {
   "cell_type": "code",
   "execution_count": 5,
   "metadata": {},
   "outputs": [],
   "source": [
    "# DataFrame before splitting data\n",
    "final_df = cc_application_df.drop(columns=['ID'])\n",
    "\n",
    "# Split the data into train and test sets\n",
    "def data_split(df, size):\n",
    "    train_df, test_df = train_test_split(df, test_size=size, random_state=42)\n",
    "    return train_df.reset_index(drop=True), test_df.reset_index(drop=True)\n",
    "\n",
    "cc_train_original, cc_test_original = data_split(final_df, 0.2)"
   ]
  }
 ],
 "metadata": {
  "kernelspec": {
   "display_name": "venv_cc.approval",
   "language": "python",
   "name": "python3"
  },
  "language_info": {
   "codemirror_mode": {
    "name": "ipython",
    "version": 3
   },
   "file_extension": ".py",
   "mimetype": "text/x-python",
   "name": "python",
   "nbconvert_exporter": "python",
   "pygments_lexer": "ipython3",
   "version": "3.11.9"
  }
 },
 "nbformat": 4,
 "nbformat_minor": 2
}
